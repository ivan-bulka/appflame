{
 "cells": [
  {
   "cell_type": "code",
   "execution_count": 2,
   "metadata": {},
   "outputs": [],
   "source": [
    "import pandas as pd"
   ]
  },
  {
   "cell_type": "code",
   "execution_count": 3,
   "metadata": {},
   "outputs": [
    {
     "data": {
      "text/html": [
       "<div>\n",
       "<style scoped>\n",
       "    .dataframe tbody tr th:only-of-type {\n",
       "        vertical-align: middle;\n",
       "    }\n",
       "\n",
       "    .dataframe tbody tr th {\n",
       "        vertical-align: top;\n",
       "    }\n",
       "\n",
       "    .dataframe thead th {\n",
       "        text-align: right;\n",
       "    }\n",
       "</style>\n",
       "<table border=\"1\" class=\"dataframe\">\n",
       "  <thead>\n",
       "    <tr style=\"text-align: right;\">\n",
       "      <th></th>\n",
       "      <th>sender_id</th>\n",
       "      <th>platform_id</th>\n",
       "      <th>time_stamp</th>\n",
       "      <th>gender</th>\n",
       "      <th>reg_date</th>\n",
       "    </tr>\n",
       "  </thead>\n",
       "  <tbody>\n",
       "    <tr>\n",
       "      <th>0</th>\n",
       "      <td>3207526951</td>\n",
       "      <td>6</td>\n",
       "      <td>16.03.2017 13:35</td>\n",
       "      <td>m</td>\n",
       "      <td>26.01.2017</td>\n",
       "    </tr>\n",
       "    <tr>\n",
       "      <th>1</th>\n",
       "      <td>3207526951</td>\n",
       "      <td>6</td>\n",
       "      <td>16.03.2017 9:09</td>\n",
       "      <td>m</td>\n",
       "      <td>26.01.2017</td>\n",
       "    </tr>\n",
       "    <tr>\n",
       "      <th>2</th>\n",
       "      <td>3207526951</td>\n",
       "      <td>6</td>\n",
       "      <td>16.03.2017 9:09</td>\n",
       "      <td>m</td>\n",
       "      <td>26.01.2017</td>\n",
       "    </tr>\n",
       "    <tr>\n",
       "      <th>3</th>\n",
       "      <td>3207526951</td>\n",
       "      <td>6</td>\n",
       "      <td>16.03.2017 12:13</td>\n",
       "      <td>m</td>\n",
       "      <td>26.01.2017</td>\n",
       "    </tr>\n",
       "    <tr>\n",
       "      <th>4</th>\n",
       "      <td>3207526951</td>\n",
       "      <td>6</td>\n",
       "      <td>15.03.2017 14:01</td>\n",
       "      <td>m</td>\n",
       "      <td>26.01.2017</td>\n",
       "    </tr>\n",
       "  </tbody>\n",
       "</table>\n",
       "</div>"
      ],
      "text/plain": [
       "    sender_id  platform_id        time_stamp gender    reg_date\n",
       "0  3207526951            6  16.03.2017 13:35      m  26.01.2017\n",
       "1  3207526951            6   16.03.2017 9:09      m  26.01.2017\n",
       "2  3207526951            6   16.03.2017 9:09      m  26.01.2017\n",
       "3  3207526951            6  16.03.2017 12:13      m  26.01.2017\n",
       "4  3207526951            6  15.03.2017 14:01      m  26.01.2017"
      ]
     },
     "execution_count": 3,
     "metadata": {},
     "output_type": "execute_result"
    }
   ],
   "source": [
    "# Открываем файл и смотрим как выглядят данные\n",
    "df = pd.read_csv('Test_4.csv', sep = ';')\n",
    "df.head()"
   ]
  },
  {
   "cell_type": "code",
   "execution_count": 4,
   "metadata": {},
   "outputs": [
    {
     "data": {
      "text/html": [
       "<div>\n",
       "<style scoped>\n",
       "    .dataframe tbody tr th:only-of-type {\n",
       "        vertical-align: middle;\n",
       "    }\n",
       "\n",
       "    .dataframe tbody tr th {\n",
       "        vertical-align: top;\n",
       "    }\n",
       "\n",
       "    .dataframe thead th {\n",
       "        text-align: right;\n",
       "    }\n",
       "</style>\n",
       "<table border=\"1\" class=\"dataframe\">\n",
       "  <thead>\n",
       "    <tr style=\"text-align: right;\">\n",
       "      <th></th>\n",
       "      <th>sender_id</th>\n",
       "      <th>platform_id</th>\n",
       "      <th>time_stamp</th>\n",
       "      <th>gender</th>\n",
       "      <th>reg_date</th>\n",
       "    </tr>\n",
       "  </thead>\n",
       "  <tbody>\n",
       "    <tr>\n",
       "      <th>116183</th>\n",
       "      <td>3205357151</td>\n",
       "      <td>6</td>\n",
       "      <td>24.03.2017 3:37</td>\n",
       "      <td>m</td>\n",
       "      <td>16.01.2017</td>\n",
       "    </tr>\n",
       "    <tr>\n",
       "      <th>116184</th>\n",
       "      <td>3205357151</td>\n",
       "      <td>6</td>\n",
       "      <td>24.03.2017 3:37</td>\n",
       "      <td>m</td>\n",
       "      <td>16.01.2017</td>\n",
       "    </tr>\n",
       "    <tr>\n",
       "      <th>116337</th>\n",
       "      <td>3205388478</td>\n",
       "      <td>7</td>\n",
       "      <td>24.03.2017 1:58</td>\n",
       "      <td>m</td>\n",
       "      <td>16.01.2017</td>\n",
       "    </tr>\n",
       "    <tr>\n",
       "      <th>116338</th>\n",
       "      <td>3205388478</td>\n",
       "      <td>7</td>\n",
       "      <td>24.03.2017 2:54</td>\n",
       "      <td>m</td>\n",
       "      <td>16.01.2017</td>\n",
       "    </tr>\n",
       "    <tr>\n",
       "      <th>118270</th>\n",
       "      <td>3205435604</td>\n",
       "      <td>6</td>\n",
       "      <td>24.03.2017 5:33</td>\n",
       "      <td>m</td>\n",
       "      <td>16.01.2017</td>\n",
       "    </tr>\n",
       "  </tbody>\n",
       "</table>\n",
       "</div>"
      ],
      "text/plain": [
       "         sender_id  platform_id       time_stamp gender    reg_date\n",
       "116183  3205357151            6  24.03.2017 3:37      m  16.01.2017\n",
       "116184  3205357151            6  24.03.2017 3:37      m  16.01.2017\n",
       "116337  3205388478            7  24.03.2017 1:58      m  16.01.2017\n",
       "116338  3205388478            7  24.03.2017 2:54      m  16.01.2017\n",
       "118270  3205435604            6  24.03.2017 5:33      m  16.01.2017"
      ]
     },
     "execution_count": 4,
     "metadata": {},
     "output_type": "execute_result"
    }
   ],
   "source": [
    "# Фильтруем данные по дате начала эксперимента. \n",
    "df_filtered = df[df['time_stamp'] >= '24.03.2017 16:00']\n",
    "df_filtered.head()"
   ]
  },
  {
   "cell_type": "code",
   "execution_count": 5,
   "metadata": {},
   "outputs": [],
   "source": [
    "# Разделяем отдельно пользователей, которые работали с базовым вариантом и тех, кто работал с тестовым вариантом\n",
    "# Четные 'sender_id' - базовый вариант\n",
    "# Нечетные 'sender_id' - тестовый вариант\n",
    "df_test = df_filtered[df_filtered['sender_id'] %2 ==1]\n",
    "df_base = df_filtered[df_filtered['sender_id'] %2 ==0]"
   ]
  },
  {
   "cell_type": "code",
   "execution_count": 6,
   "metadata": {},
   "outputs": [
    {
     "name": "stdout",
     "output_type": "stream",
     "text": [
      "В тестовом варианте есть:  57511\n",
      "В базовом варианте есть:  65963\n"
     ]
    }
   ],
   "source": [
    "# Смотрим какое количество данных есть в тестовом и базовом вариантах\n",
    "print('В тестовом варианте есть: ', df_test.shape[0])\n",
    "print('В базовом варианте есть: ', df_base.shape[0])"
   ]
  },
  {
   "cell_type": "code",
   "execution_count": 7,
   "metadata": {},
   "outputs": [],
   "source": [
    "# В базовом варианте есть немного пользователей\n",
    "# Группируем данные по 'sender_id'. Один 'sender_id' может сделать много лайков\n",
    "test_count = df_test['sender_id'].value_counts()\n",
    "base_count = df_base['sender_id'].value_counts()"
   ]
  },
  {
   "cell_type": "code",
   "execution_count": 12,
   "metadata": {},
   "outputs": [
    {
     "name": "stdout",
     "output_type": "stream",
     "text": [
      "Данные по тестовому варианту:  3208186485    458\n",
      "3209914479    402\n",
      "3217001283    330\n",
      "3214070377    327\n",
      "3209547095    308\n",
      "             ... \n",
      "3218788669      1\n",
      "3219076003      1\n",
      "3216714639      1\n",
      "3216623425      1\n",
      "3215797027      1\n",
      "Name: sender_id, Length: 3979, dtype: int64\n",
      "++++++++++++++++++++++++++++++++++\n",
      "Данные по базовому варианту варианте:  3204314070    1282\n",
      "3202057642    1157\n",
      "3204297224    1059\n",
      "3203809152     599\n",
      "3218701286     599\n",
      "              ... \n",
      "3216536694       1\n",
      "3219002634       1\n",
      "3210384886       1\n",
      "3214636234       1\n",
      "3212962330       1\n",
      "Name: sender_id, Length: 4098, dtype: int64\n"
     ]
    }
   ],
   "source": [
    "# Смотрим примеры данных \n",
    "print('Данные по тестовому варианту: ', test_count)\n",
    "print('++++++++++++++++++++++++++++++++++')\n",
    "print('Данные по базовому варианту варианте: ', base_count)"
   ]
  },
  {
   "cell_type": "code",
   "execution_count": 14,
   "metadata": {},
   "outputs": [
    {
     "name": "stdout",
     "output_type": "stream",
     "text": [
      "Количество лайков на пользователя в тестовом варианте:  14.45363156572003\n",
      "Количество лайков на пользователя в базовом варианте:  16.096388482186434\n"
     ]
    }
   ],
   "source": [
    "# Считаем среднее количество лайков на одного пользователя в базовом и тестовом вариантах \n",
    "print('Количество лайков на пользователя в тестовом варианте: ', test_count.mean())\n",
    "print('Количество лайков на пользователя в базовом варианте: ', base_count.mean())"
   ]
  },
  {
   "cell_type": "markdown",
   "metadata": {},
   "source": [
    "##### Вывод: в общем, базовый вариант лучше тестового, так как среднее количество лайков на пользователя в нем выше"
   ]
  },
  {
   "cell_type": "markdown",
   "metadata": {},
   "source": [
    "Сделаем разбивку данных по гендерному типу и посмотрим как от этого изменятся данные "
   ]
  },
  {
   "cell_type": "code",
   "execution_count": 17,
   "metadata": {},
   "outputs": [
    {
     "name": "stderr",
     "output_type": "stream",
     "text": [
      "<ipython-input-17-ddc9337dea2d>:1: UserWarning: Boolean Series key will be reindexed to match DataFrame index.\n",
      "  df_test_m = df_filtered[df_filtered['sender_id'] %2 ==1][df_filtered['gender'] == 'm']\n",
      "<ipython-input-17-ddc9337dea2d>:2: UserWarning: Boolean Series key will be reindexed to match DataFrame index.\n",
      "  df_base_m = df_filtered[df_filtered['sender_id'] %2 ==0][df_filtered['gender'] == 'm']\n",
      "<ipython-input-17-ddc9337dea2d>:3: UserWarning: Boolean Series key will be reindexed to match DataFrame index.\n",
      "  df_test_f = df_filtered[df_filtered['sender_id'] %2 ==1][df_filtered['gender'] == 'f']\n",
      "<ipython-input-17-ddc9337dea2d>:4: UserWarning: Boolean Series key will be reindexed to match DataFrame index.\n",
      "  df_base_f = df_filtered[df_filtered['sender_id'] %2 ==0][df_filtered['gender'] == 'f']\n"
     ]
    }
   ],
   "source": [
    "df_test_m = df_filtered[df_filtered['sender_id'] %2 ==1][df_filtered['gender'] == 'm']\n",
    "df_base_m = df_filtered[df_filtered['sender_id'] %2 ==0][df_filtered['gender'] == 'm']\n",
    "df_test_f = df_filtered[df_filtered['sender_id'] %2 ==1][df_filtered['gender'] == 'f']\n",
    "df_base_f = df_filtered[df_filtered['sender_id'] %2 ==0][df_filtered['gender'] == 'f']"
   ]
  },
  {
   "cell_type": "code",
   "execution_count": 21,
   "metadata": {},
   "outputs": [
    {
     "name": "stdout",
     "output_type": "stream",
     "text": [
      "Количество лайков на пользователя в тестовом варианте по мужчинам:  16.055430228810827\n",
      "Количество лайков на пользователя в базовом варианте по мужчинам:  18.25\n"
     ]
    }
   ],
   "source": [
    "# Данные по мужчинам \n",
    "test_m_count = df_test_m['sender_id'].value_counts()\n",
    "base_m_count = df_base_m['sender_id'].value_counts()\n",
    "print('Количество лайков на пользователя в тестовом варианте по мужчинам: ', test_m_count.mean())\n",
    "print('Количество лайков на пользователя в базовом варианте по мужчинам: ', base_m_count.mean())"
   ]
  },
  {
   "cell_type": "code",
   "execution_count": 22,
   "metadata": {},
   "outputs": [
    {
     "name": "stdout",
     "output_type": "stream",
     "text": [
      "Количество лайков на пользователя в тестовом варианте по мужчинам:  8.77345537757437\n",
      "Количество лайков на пользователя в базовом варианте по мужчинам:  8.76021505376344\n"
     ]
    }
   ],
   "source": [
    "# Данные по женщинам \n",
    "test_f_count = df_test_f['sender_id'].value_counts()\n",
    "base_f_count = df_base_f['sender_id'].value_counts()\n",
    "print('Количество лайков на пользователя в тестовом варианте по мужчинам: ', test_f_count.mean())\n",
    "print('Количество лайков на пользователя в базовом варианте по мужчинам: ', base_f_count.mean())"
   ]
  },
  {
   "cell_type": "markdown",
   "metadata": {},
   "source": [
    "##### Вывод: Базовый вариант дает больше лайков на человека, чем тестовый для мужчин. Для женщин - ситуация не изменилась"
   ]
  },
  {
   "cell_type": "markdown",
   "metadata": {},
   "source": [
    "Сделаем разбивку по платформе и посмотрим как это влияет на результаты"
   ]
  },
  {
   "cell_type": "code",
   "execution_count": 9,
   "metadata": {},
   "outputs": [
    {
     "name": "stderr",
     "output_type": "stream",
     "text": [
      "C:\\Users\\ivan1\\anaconda3\\lib\\site-packages\\ipykernel_launcher.py:1: UserWarning: Boolean Series key will be reindexed to match DataFrame index.\n",
      "  \"\"\"Entry point for launching an IPython kernel.\n",
      "C:\\Users\\ivan1\\anaconda3\\lib\\site-packages\\ipykernel_launcher.py:2: UserWarning: Boolean Series key will be reindexed to match DataFrame index.\n",
      "  \n",
      "C:\\Users\\ivan1\\anaconda3\\lib\\site-packages\\ipykernel_launcher.py:3: UserWarning: Boolean Series key will be reindexed to match DataFrame index.\n",
      "  This is separate from the ipykernel package so we can avoid doing imports until\n",
      "C:\\Users\\ivan1\\anaconda3\\lib\\site-packages\\ipykernel_launcher.py:4: UserWarning: Boolean Series key will be reindexed to match DataFrame index.\n",
      "  after removing the cwd from sys.path.\n"
     ]
    }
   ],
   "source": [
    "df_test_desc = df_filtered[df_filtered['sender_id'] %2 ==1][df_filtered['platform_id'] == 6]\n",
    "df_base_desc = df_filtered[df_filtered['sender_id'] %2 ==0][df_filtered['platform_id'] == 6]\n",
    "df_test_mob = df_filtered[df_filtered['sender_id'] %2 ==1][df_filtered['platform_id'] == 7]\n",
    "df_base_mob = df_filtered[df_filtered['sender_id'] %2 ==0][df_filtered['platform_id'] == 7]\n",
    "test_desc_count = df_test_desc['sender_id'].value_counts()\n",
    "base_desc_count = df_base_desc['sender_id'].value_counts()\n",
    "test_mob_count = df_test_mob['sender_id'].value_counts()\n",
    "base_mob_count = df_base_mob['sender_id'].value_counts()"
   ]
  },
  {
   "cell_type": "code",
   "execution_count": 10,
   "metadata": {},
   "outputs": [
    {
     "name": "stdout",
     "output_type": "stream",
     "text": [
      "Количество лайков на пользователя в тестовом варианте по дэсктопу:  17.194704908990623\n",
      "Количество лайков на пользователя в базовом варианте по дэсктопу:  18.26049515608181\n"
     ]
    }
   ],
   "source": [
    "# Данные по дэсктопу \n",
    "print('Количество лайков на пользователя в тестовом варианте по дэсктопу: ', test_desc_count.mean())\n",
    "print('Количество лайков на пользователя в базовом варианте по дэсктопу: ', base_desc_count.mean())"
   ]
  },
  {
   "cell_type": "code",
   "execution_count": 12,
   "metadata": {},
   "outputs": [
    {
     "name": "stdout",
     "output_type": "stream",
     "text": [
      "Количество лайков на пользователя в тестовом варианте по мобильной версии:  11.847503373819164\n",
      "Количество лайков на пользователя в базовом варианте по мобильной версии:  14.0074333187582\n"
     ]
    }
   ],
   "source": [
    "# Данные по мобильной версии\n",
    "print('Количество лайков на пользователя в тестовом варианте по мобильной версии: ', test_mob_count.mean())\n",
    "print('Количество лайков на пользователя в базовом варианте по мобильной версии: ', base_mob_count.mean())"
   ]
  },
  {
   "cell_type": "markdown",
   "metadata": {},
   "source": [
    "Как видим, больше всего это отличие проявляется на мобильной версии. Базовый вариант опять более эффективный"
   ]
  },
  {
   "cell_type": "markdown",
   "metadata": {},
   "source": [
    "Дополнительно можно еще разделить данные по гендерному типу внутри платформы и посмотреть что с этого получиться"
   ]
  },
  {
   "cell_type": "markdown",
   "metadata": {},
   "source": [
    "### Общий вывод: базовый вариант лучше тестового, так как в среднем мы получаем 14.45 лайка на пользователя в тестовом варианте и 16 в базовом"
   ]
  }
 ],
 "metadata": {
  "kernelspec": {
   "display_name": "Python 3",
   "language": "python",
   "name": "python3"
  },
  "language_info": {
   "codemirror_mode": {
    "name": "ipython",
    "version": 3
   },
   "file_extension": ".py",
   "mimetype": "text/x-python",
   "name": "python",
   "nbconvert_exporter": "python",
   "pygments_lexer": "ipython3",
   "version": "3.7.6"
  }
 },
 "nbformat": 4,
 "nbformat_minor": 4
}
