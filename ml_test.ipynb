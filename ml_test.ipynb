{
 "cells": [
  {
   "cell_type": "code",
   "execution_count": 38,
   "metadata": {},
   "outputs": [],
   "source": [
    "# Импортируем нужные библиотеки\n",
    "import pandas as pd\n",
    "import numpy as np\n",
    "import matplotlib as plt\n",
    "import matplotlib.pyplot as plt\n",
    "import seaborn as sns\n",
    "from sklearn.model_selection import train_test_split\n",
    "from sklearn.metrics import precision_score\n",
    "from sklearn.metrics import recall_score\n",
    "from sklearn.metrics import accuracy_score\n",
    "from sklearn.metrics import f1_score\n",
    "from sklearn.linear_model import LogisticRegression\n",
    "from lightgbm import LGBMClassifier\n",
    "from sklearn.ensemble import RandomForestClassifier\n",
    "import warnings\n",
    "warnings.filterwarnings(\"ignore\")\n",
    "from joblib import dump, load"
   ]
  },
  {
   "cell_type": "code",
   "execution_count": 2,
   "metadata": {},
   "outputs": [
    {
     "data": {
      "text/html": [
       "<div>\n",
       "<style scoped>\n",
       "    .dataframe tbody tr th:only-of-type {\n",
       "        vertical-align: middle;\n",
       "    }\n",
       "\n",
       "    .dataframe tbody tr th {\n",
       "        vertical-align: top;\n",
       "    }\n",
       "\n",
       "    .dataframe thead th {\n",
       "        text-align: right;\n",
       "    }\n",
       "</style>\n",
       "<table border=\"1\" class=\"dataframe\">\n",
       "  <thead>\n",
       "    <tr style=\"text-align: right;\">\n",
       "      <th></th>\n",
       "      <th>is_fraud</th>\n",
       "      <th>transaction_amount</th>\n",
       "      <th>relative_timestamp</th>\n",
       "      <th>F1</th>\n",
       "      <th>F2</th>\n",
       "      <th>F3</th>\n",
       "      <th>F4</th>\n",
       "      <th>F5</th>\n",
       "      <th>F6</th>\n",
       "      <th>F7</th>\n",
       "      <th>...</th>\n",
       "      <th>F21</th>\n",
       "      <th>F22</th>\n",
       "      <th>F23</th>\n",
       "      <th>F24</th>\n",
       "      <th>F25</th>\n",
       "      <th>F26</th>\n",
       "      <th>F27</th>\n",
       "      <th>F28</th>\n",
       "      <th>F29</th>\n",
       "      <th>F30</th>\n",
       "    </tr>\n",
       "  </thead>\n",
       "  <tbody>\n",
       "    <tr>\n",
       "      <th>0</th>\n",
       "      <td>0</td>\n",
       "      <td>118.44</td>\n",
       "      <td>159609.0</td>\n",
       "      <td>1.928977</td>\n",
       "      <td>-0.745709</td>\n",
       "      <td>-1.742981</td>\n",
       "      <td>-0.247731</td>\n",
       "      <td>-0.379232</td>\n",
       "      <td>-1.504379</td>\n",
       "      <td>0.426988</td>\n",
       "      <td>...</td>\n",
       "      <td>-0.096171</td>\n",
       "      <td>0.153526</td>\n",
       "      <td>-0.001283</td>\n",
       "      <td>0.631590</td>\n",
       "      <td>0.130582</td>\n",
       "      <td>0.758711</td>\n",
       "      <td>-0.113741</td>\n",
       "      <td>-0.063939</td>\n",
       "      <td>0.795595</td>\n",
       "      <td>-2.200074</td>\n",
       "    </tr>\n",
       "    <tr>\n",
       "      <th>1</th>\n",
       "      <td>0</td>\n",
       "      <td>1.98</td>\n",
       "      <td>162525.0</td>\n",
       "      <td>2.060450</td>\n",
       "      <td>-0.136926</td>\n",
       "      <td>-1.085910</td>\n",
       "      <td>0.430300</td>\n",
       "      <td>-0.254977</td>\n",
       "      <td>-1.247417</td>\n",
       "      <td>0.104193</td>\n",
       "      <td>...</td>\n",
       "      <td>-0.302288</td>\n",
       "      <td>-0.795267</td>\n",
       "      <td>0.355477</td>\n",
       "      <td>0.013651</td>\n",
       "      <td>-0.340015</td>\n",
       "      <td>0.199361</td>\n",
       "      <td>-0.078557</td>\n",
       "      <td>-0.062377</td>\n",
       "      <td>0.921937</td>\n",
       "      <td>0.216959</td>\n",
       "    </tr>\n",
       "    <tr>\n",
       "      <th>2</th>\n",
       "      <td>0</td>\n",
       "      <td>103.00</td>\n",
       "      <td>58956.0</td>\n",
       "      <td>1.114014</td>\n",
       "      <td>-1.533296</td>\n",
       "      <td>0.741385</td>\n",
       "      <td>-1.385897</td>\n",
       "      <td>-1.241643</td>\n",
       "      <td>1.088519</td>\n",
       "      <td>-1.433041</td>\n",
       "      <td>...</td>\n",
       "      <td>0.140363</td>\n",
       "      <td>0.783574</td>\n",
       "      <td>0.082555</td>\n",
       "      <td>-0.615175</td>\n",
       "      <td>-0.036441</td>\n",
       "      <td>-0.006456</td>\n",
       "      <td>0.109368</td>\n",
       "      <td>0.032635</td>\n",
       "      <td>0.225000</td>\n",
       "      <td>-2.467540</td>\n",
       "    </tr>\n",
       "    <tr>\n",
       "      <th>3</th>\n",
       "      <td>0</td>\n",
       "      <td>16.70</td>\n",
       "      <td>148842.0</td>\n",
       "      <td>0.514410</td>\n",
       "      <td>1.389934</td>\n",
       "      <td>-1.091181</td>\n",
       "      <td>1.604760</td>\n",
       "      <td>0.460984</td>\n",
       "      <td>-0.381953</td>\n",
       "      <td>-0.599145</td>\n",
       "      <td>...</td>\n",
       "      <td>-1.670931</td>\n",
       "      <td>-0.854670</td>\n",
       "      <td>0.130428</td>\n",
       "      <td>0.789378</td>\n",
       "      <td>0.909599</td>\n",
       "      <td>-0.692159</td>\n",
       "      <td>-0.033316</td>\n",
       "      <td>0.096833</td>\n",
       "      <td>0.586722</td>\n",
       "      <td>1.187643</td>\n",
       "    </tr>\n",
       "    <tr>\n",
       "      <th>4</th>\n",
       "      <td>0</td>\n",
       "      <td>110.14</td>\n",
       "      <td>125542.0</td>\n",
       "      <td>-0.849330</td>\n",
       "      <td>0.399191</td>\n",
       "      <td>-0.319642</td>\n",
       "      <td>-1.220384</td>\n",
       "      <td>1.062371</td>\n",
       "      <td>1.752440</td>\n",
       "      <td>0.558836</td>\n",
       "      <td>...</td>\n",
       "      <td>0.134113</td>\n",
       "      <td>0.278606</td>\n",
       "      <td>0.198983</td>\n",
       "      <td>-0.936208</td>\n",
       "      <td>-0.477630</td>\n",
       "      <td>-0.087217</td>\n",
       "      <td>0.035566</td>\n",
       "      <td>0.090183</td>\n",
       "      <td>0.569712</td>\n",
       "      <td>-1.485808</td>\n",
       "    </tr>\n",
       "  </tbody>\n",
       "</table>\n",
       "<p>5 rows × 33 columns</p>\n",
       "</div>"
      ],
      "text/plain": [
       "   is_fraud  transaction_amount  relative_timestamp        F1        F2  \\\n",
       "0         0              118.44            159609.0  1.928977 -0.745709   \n",
       "1         0                1.98            162525.0  2.060450 -0.136926   \n",
       "2         0              103.00             58956.0  1.114014 -1.533296   \n",
       "3         0               16.70            148842.0  0.514410  1.389934   \n",
       "4         0              110.14            125542.0 -0.849330  0.399191   \n",
       "\n",
       "         F3        F4        F5        F6        F7  ...       F21       F22  \\\n",
       "0 -1.742981 -0.247731 -0.379232 -1.504379  0.426988  ... -0.096171  0.153526   \n",
       "1 -1.085910  0.430300 -0.254977 -1.247417  0.104193  ... -0.302288 -0.795267   \n",
       "2  0.741385 -1.385897 -1.241643  1.088519 -1.433041  ...  0.140363  0.783574   \n",
       "3 -1.091181  1.604760  0.460984 -0.381953 -0.599145  ... -1.670931 -0.854670   \n",
       "4 -0.319642 -1.220384  1.062371  1.752440  0.558836  ...  0.134113  0.278606   \n",
       "\n",
       "        F23       F24       F25       F26       F27       F28       F29  \\\n",
       "0 -0.001283  0.631590  0.130582  0.758711 -0.113741 -0.063939  0.795595   \n",
       "1  0.355477  0.013651 -0.340015  0.199361 -0.078557 -0.062377  0.921937   \n",
       "2  0.082555 -0.615175 -0.036441 -0.006456  0.109368  0.032635  0.225000   \n",
       "3  0.130428  0.789378  0.909599 -0.692159 -0.033316  0.096833  0.586722   \n",
       "4  0.198983 -0.936208 -0.477630 -0.087217  0.035566  0.090183  0.569712   \n",
       "\n",
       "        F30  \n",
       "0 -2.200074  \n",
       "1  0.216959  \n",
       "2 -2.467540  \n",
       "3  1.187643  \n",
       "4 -1.485808  \n",
       "\n",
       "[5 rows x 33 columns]"
      ]
     },
     "execution_count": 2,
     "metadata": {},
     "output_type": "execute_result"
    }
   ],
   "source": [
    "# Загружаем данные\n",
    "df = pd.read_csv('df.csv')\n",
    "df.head()"
   ]
  },
  {
   "cell_type": "code",
   "execution_count": 3,
   "metadata": {},
   "outputs": [
    {
     "data": {
      "text/plain": [
       "(284807, 33)"
      ]
     },
     "execution_count": 3,
     "metadata": {},
     "output_type": "execute_result"
    }
   ],
   "source": [
    "# Размер матрицы\n",
    "df.shape"
   ]
  },
  {
   "cell_type": "code",
   "execution_count": 4,
   "metadata": {},
   "outputs": [
    {
     "data": {
      "text/plain": [
       "(273152, 33)"
      ]
     },
     "execution_count": 4,
     "metadata": {},
     "output_type": "execute_result"
    }
   ],
   "source": [
    "# Очищаем данные от Na значений\n",
    "df.dropna(inplace=True)\n",
    "df.shape"
   ]
  },
  {
   "cell_type": "code",
   "execution_count": 5,
   "metadata": {},
   "outputs": [
    {
     "data": {
      "text/plain": [
       "0    272660\n",
       "1       492\n",
       "Name: is_fraud, dtype: int64"
      ]
     },
     "execution_count": 5,
     "metadata": {},
     "output_type": "execute_result"
    }
   ],
   "source": [
    "# Смотрим распределения классов\n",
    "df['is_fraud'].value_counts()"
   ]
  },
  {
   "cell_type": "code",
   "execution_count": 6,
   "metadata": {},
   "outputs": [
    {
     "data": {
      "text/plain": [
       "0.1801194939081537"
      ]
     },
     "execution_count": 6,
     "metadata": {},
     "output_type": "execute_result"
    }
   ],
   "source": [
    "percentage = df['is_fraud'].value_counts()[1] / (df['is_fraud'].value_counts()[0] + df['is_fraud'].value_counts()[1]) * 100\n",
    "percentage"
   ]
  },
  {
   "cell_type": "markdown",
   "metadata": {},
   "source": [
    "Как видим, у нас менее 0.2% фродовых транзакций. Это задача классификации с неравномерным распределениям классов\n",
    "Для реальной задачи нам надо больше данных. У нас только 492 объекта класса '1', что говорит о недостаточном количестве данных.\n",
    "\n",
    "У нас будет 2 важных метрики: recall и precision. Поскольку у нас сильный дисбаланс классов, нам лучше лишний раз проверить транзакцию, которая не есть фродом, чем пропустить фродовою транзакцию. По этому, recall будет иметь в нас больший вес, чем precision."
   ]
  },
  {
   "cell_type": "code",
   "execution_count": 17,
   "metadata": {},
   "outputs": [
    {
     "data": {
      "image/png": "[encoded data removed]",
      "text/plain": [
       "<Figure size 1152x864 with 2 Axes>"
      ]
     },
     "metadata": {},
     "output_type": "display_data"
    }
   ],
   "source": [
    "# Смотрим на корреляцию между 'features'\n",
    "corrmat = df.drop(columns = ['relative_timestamp']).corr()\n",
    "f, ax = plt.subplots(figsize=(16, 12))\n",
    "cols = corrmat.nlargest(20, 'is_fraud')['is_fraud'].index\n",
    "cm = np.corrcoef(corrmat[cols].values.T)\n",
    "sns.set(font_scale=1)\n",
    "hm = sns.heatmap(cm, cbar=True, annot=True, square=True, fmt='.2f', annot_kws={'size': 10}, yticklabels=cols.values,\n",
    "                 xticklabels=cols.values)\n",
    "plt.yticks(rotation=0)\n",
    "plt.xticks(rotation=90)\n",
    "plt.show()"
   ]
  },
  {
   "cell_type": "markdown",
   "metadata": {},
   "source": [
    "Как видим, корреляция между характеристиками в пределах допустимых значений. Единственное исключение корреляций между 'transaction_amount' и параметром 'F2'. Такая корреляция может влиять на часть моделей, например логистическую регрессию. В реальной задаче, я бы протестировал модель с этими двумя параметрами и модель, где бы исключил один из них, чтобы убрать взаимозависимые параметры в модели. В тестовом задании я не буду исключать ни одного с параметров. \n",
    "\n",
    "'relative_timestamp' ичключен из оценки корреляции, так как это больше свойство категориальное, чем количественное"
   ]
  },
  {
   "cell_type": "code",
   "execution_count": 8,
   "metadata": {},
   "outputs": [],
   "source": [
    "# Готовим данные для модели \n",
    "X = df.drop(columns = ['is_fraud', 'relative_timestamp'])\n",
    "# Я убрал 'relative_timestamp' с параметров. В реальной задачи, я бы создавал категориальные признаки на основании \n",
    "# timestamp. Например: день недели, час или минуту. Возможно, это бы повлияло на нашу модель и увеличило ее \n",
    "# показатели. Думаю, это стоило бы протестировать в реальной задачи, так как количество фрода может зависеть\n",
    "# от времени суток. \n",
    "\n",
    "# Так же признак 'transaction_amount' стоило бы нормализовать, так как он может не совсем корректно повлиять на модель. \n",
    "# В тестовом задании, я не использовал нормализацию\n",
    "y = df['is_fraud']"
   ]
  },
  {
   "cell_type": "code",
   "execution_count": 12,
   "metadata": {},
   "outputs": [
    {
     "data": {
      "text/html": [
       "<div>\n",
       "<style scoped>\n",
       "    .dataframe tbody tr th:only-of-type {\n",
       "        vertical-align: middle;\n",
       "    }\n",
       "\n",
       "    .dataframe tbody tr th {\n",
       "        vertical-align: top;\n",
       "    }\n",
       "\n",
       "    .dataframe thead th {\n",
       "        text-align: right;\n",
       "    }\n",
       "</style>\n",
       "<table border=\"1\" class=\"dataframe\">\n",
       "  <thead>\n",
       "    <tr style=\"text-align: right;\">\n",
       "      <th></th>\n",
       "      <th>transaction_amount</th>\n",
       "      <th>F1</th>\n",
       "      <th>F2</th>\n",
       "      <th>F3</th>\n",
       "      <th>F4</th>\n",
       "      <th>F5</th>\n",
       "      <th>F6</th>\n",
       "      <th>F7</th>\n",
       "      <th>F8</th>\n",
       "      <th>F9</th>\n",
       "      <th>...</th>\n",
       "      <th>F21</th>\n",
       "      <th>F22</th>\n",
       "      <th>F23</th>\n",
       "      <th>F24</th>\n",
       "      <th>F25</th>\n",
       "      <th>F26</th>\n",
       "      <th>F27</th>\n",
       "      <th>F28</th>\n",
       "      <th>F29</th>\n",
       "      <th>F30</th>\n",
       "    </tr>\n",
       "  </thead>\n",
       "  <tbody>\n",
       "    <tr>\n",
       "      <th>0</th>\n",
       "      <td>118.44</td>\n",
       "      <td>1.928977</td>\n",
       "      <td>-0.745709</td>\n",
       "      <td>-1.742981</td>\n",
       "      <td>-0.247731</td>\n",
       "      <td>-0.379232</td>\n",
       "      <td>-1.504379</td>\n",
       "      <td>0.426988</td>\n",
       "      <td>-0.560930</td>\n",
       "      <td>-1.346733</td>\n",
       "      <td>...</td>\n",
       "      <td>-0.096171</td>\n",
       "      <td>0.153526</td>\n",
       "      <td>-0.001283</td>\n",
       "      <td>0.631590</td>\n",
       "      <td>0.130582</td>\n",
       "      <td>0.758711</td>\n",
       "      <td>-0.113741</td>\n",
       "      <td>-0.063939</td>\n",
       "      <td>0.795595</td>\n",
       "      <td>-2.200074</td>\n",
       "    </tr>\n",
       "    <tr>\n",
       "      <th>1</th>\n",
       "      <td>1.98</td>\n",
       "      <td>2.060450</td>\n",
       "      <td>-0.136926</td>\n",
       "      <td>-1.085910</td>\n",
       "      <td>0.430300</td>\n",
       "      <td>-0.254977</td>\n",
       "      <td>-1.247417</td>\n",
       "      <td>0.104193</td>\n",
       "      <td>-0.267854</td>\n",
       "      <td>0.721569</td>\n",
       "      <td>...</td>\n",
       "      <td>-0.302288</td>\n",
       "      <td>-0.795267</td>\n",
       "      <td>0.355477</td>\n",
       "      <td>0.013651</td>\n",
       "      <td>-0.340015</td>\n",
       "      <td>0.199361</td>\n",
       "      <td>-0.078557</td>\n",
       "      <td>-0.062377</td>\n",
       "      <td>0.921937</td>\n",
       "      <td>0.216959</td>\n",
       "    </tr>\n",
       "    <tr>\n",
       "      <th>2</th>\n",
       "      <td>103.00</td>\n",
       "      <td>1.114014</td>\n",
       "      <td>-1.533296</td>\n",
       "      <td>0.741385</td>\n",
       "      <td>-1.385897</td>\n",
       "      <td>-1.241643</td>\n",
       "      <td>1.088519</td>\n",
       "      <td>-1.433041</td>\n",
       "      <td>0.390210</td>\n",
       "      <td>-1.711226</td>\n",
       "      <td>...</td>\n",
       "      <td>0.140363</td>\n",
       "      <td>0.783574</td>\n",
       "      <td>0.082555</td>\n",
       "      <td>-0.615175</td>\n",
       "      <td>-0.036441</td>\n",
       "      <td>-0.006456</td>\n",
       "      <td>0.109368</td>\n",
       "      <td>0.032635</td>\n",
       "      <td>0.225000</td>\n",
       "      <td>-2.467540</td>\n",
       "    </tr>\n",
       "    <tr>\n",
       "      <th>3</th>\n",
       "      <td>16.70</td>\n",
       "      <td>0.514410</td>\n",
       "      <td>1.389934</td>\n",
       "      <td>-1.091181</td>\n",
       "      <td>1.604760</td>\n",
       "      <td>0.460984</td>\n",
       "      <td>-0.381953</td>\n",
       "      <td>-0.599145</td>\n",
       "      <td>-2.721896</td>\n",
       "      <td>-0.567445</td>\n",
       "      <td>...</td>\n",
       "      <td>-1.670931</td>\n",
       "      <td>-0.854670</td>\n",
       "      <td>0.130428</td>\n",
       "      <td>0.789378</td>\n",
       "      <td>0.909599</td>\n",
       "      <td>-0.692159</td>\n",
       "      <td>-0.033316</td>\n",
       "      <td>0.096833</td>\n",
       "      <td>0.586722</td>\n",
       "      <td>1.187643</td>\n",
       "    </tr>\n",
       "    <tr>\n",
       "      <th>4</th>\n",
       "      <td>110.14</td>\n",
       "      <td>-0.849330</td>\n",
       "      <td>0.399191</td>\n",
       "      <td>-0.319642</td>\n",
       "      <td>-1.220384</td>\n",
       "      <td>1.062371</td>\n",
       "      <td>1.752440</td>\n",
       "      <td>0.558836</td>\n",
       "      <td>0.895163</td>\n",
       "      <td>-0.241615</td>\n",
       "      <td>...</td>\n",
       "      <td>0.134113</td>\n",
       "      <td>0.278606</td>\n",
       "      <td>0.198983</td>\n",
       "      <td>-0.936208</td>\n",
       "      <td>-0.477630</td>\n",
       "      <td>-0.087217</td>\n",
       "      <td>0.035566</td>\n",
       "      <td>0.090183</td>\n",
       "      <td>0.569712</td>\n",
       "      <td>-1.485808</td>\n",
       "    </tr>\n",
       "  </tbody>\n",
       "</table>\n",
       "<p>5 rows × 31 columns</p>\n",
       "</div>"
      ],
      "text/plain": [
       "   transaction_amount        F1        F2        F3        F4        F5  \\\n",
       "0              118.44  1.928977 -0.745709 -1.742981 -0.247731 -0.379232   \n",
       "1                1.98  2.060450 -0.136926 -1.085910  0.430300 -0.254977   \n",
       "2              103.00  1.114014 -1.533296  0.741385 -1.385897 -1.241643   \n",
       "3               16.70  0.514410  1.389934 -1.091181  1.604760  0.460984   \n",
       "4              110.14 -0.849330  0.399191 -0.319642 -1.220384  1.062371   \n",
       "\n",
       "         F6        F7        F8        F9  ...       F21       F22       F23  \\\n",
       "0 -1.504379  0.426988 -0.560930 -1.346733  ... -0.096171  0.153526 -0.001283   \n",
       "1 -1.247417  0.104193 -0.267854  0.721569  ... -0.302288 -0.795267  0.355477   \n",
       "2  1.088519 -1.433041  0.390210 -1.711226  ...  0.140363  0.783574  0.082555   \n",
       "3 -0.381953 -0.599145 -2.721896 -0.567445  ... -1.670931 -0.854670  0.130428   \n",
       "4  1.752440  0.558836  0.895163 -0.241615  ...  0.134113  0.278606  0.198983   \n",
       "\n",
       "        F24       F25       F26       F27       F28       F29       F30  \n",
       "0  0.631590  0.130582  0.758711 -0.113741 -0.063939  0.795595 -2.200074  \n",
       "1  0.013651 -0.340015  0.199361 -0.078557 -0.062377  0.921937  0.216959  \n",
       "2 -0.615175 -0.036441 -0.006456  0.109368  0.032635  0.225000 -2.467540  \n",
       "3  0.789378  0.909599 -0.692159 -0.033316  0.096833  0.586722  1.187643  \n",
       "4 -0.936208 -0.477630 -0.087217  0.035566  0.090183  0.569712 -1.485808  \n",
       "\n",
       "[5 rows x 31 columns]"
      ]
     },
     "execution_count": 12,
     "metadata": {},
     "output_type": "execute_result"
    }
   ],
   "source": [
    "X.head()"
   ]
  },
  {
   "cell_type": "code",
   "execution_count": 13,
   "metadata": {},
   "outputs": [
    {
     "data": {
      "text/plain": [
       "0    0\n",
       "1    0\n",
       "2    0\n",
       "3    0\n",
       "4    0\n",
       "Name: is_fraud, dtype: int64"
      ]
     },
     "execution_count": 13,
     "metadata": {},
     "output_type": "execute_result"
    }
   ],
   "source": [
    "y.head()"
   ]
  },
  {
   "cell_type": "code",
   "execution_count": 22,
   "metadata": {},
   "outputs": [],
   "source": [
    "# Делим данные на тренировочные и тестовые \n",
    "X_train, X_test, y_train, y_test = train_test_split(X, y, test_size=0.3, random_state=42)"
   ]
  },
  {
   "cell_type": "code",
   "execution_count": 23,
   "metadata": {},
   "outputs": [
    {
     "name": "stdout",
     "output_type": "stream",
     "text": [
      "В тренировочной выборке  0.17498637830588037 % фрода\n",
      "В тестовой выборке  0.19318237394238763 % фрода\n"
     ]
    }
   ],
   "source": [
    "# Проверим распределение классов между тренировочной и тестовой выборкой \n",
    "print('В тренировочной выборке ',  y_train.value_counts()[1] / y_train.value_counts()[0] * 100, '% фрода')\n",
    "print('В тестовой выборке ',  y_test.value_counts()[1] / y_test.value_counts()[0] * 100, '% фрода')"
   ]
  },
  {
   "cell_type": "markdown",
   "metadata": {},
   "source": [
    "Далее, мы протестируем несколько моделей и выберем лучшую из них"
   ]
  },
  {
   "cell_type": "markdown",
   "metadata": {},
   "source": [
    "# Logistic Regression"
   ]
  },
  {
   "cell_type": "code",
   "execution_count": 24,
   "metadata": {},
   "outputs": [
    {
     "name": "stdout",
     "output_type": "stream",
     "text": [
      "0.9990847631366998 0.8547008547008547 0.6329113924050633\n"
     ]
    }
   ],
   "source": [
    "clf = LogisticRegression()\n",
    "clf.fit(X_train, y_train)\n",
    "y_pred = clf.predict(X_test)\n",
    "print(accuracy_score(y_test, y_pred), precision_score(y_test, y_pred),recall_score(y_test, y_pred))"
   ]
  },
  {
   "cell_type": "markdown",
   "metadata": {},
   "source": [
    "Важное замечание: При изменении random_state в train_test_split у меня значение recall_score менялось от 0.56 до 0.72.\n",
    "Это говорит о том, что данных настолько мало, в зависимости от деления их на тестовую и тренировочную выборку зависят результаты модели. "
   ]
  },
  {
   "cell_type": "markdown",
   "metadata": {},
   "source": [
    "# LGBMclassifier"
   ]
  },
  {
   "cell_type": "code",
   "execution_count": 25,
   "metadata": {},
   "outputs": [
    {
     "name": "stdout",
     "output_type": "stream",
     "text": [
      "0.9926414956190662 0.12095400340715502 0.44936708860759494\n"
     ]
    }
   ],
   "source": [
    "clf = LGBMClassifier()\n",
    "clf.fit(X_train, y_train)\n",
    "y_pred = clf.predict(X_test)\n",
    "print(accuracy_score(y_test, y_pred), precision_score(y_test, y_pred),\n",
    "                           recall_score(y_test, y_pred))"
   ]
  },
  {
   "cell_type": "markdown",
   "metadata": {},
   "source": [
    "# RandomForest"
   ]
  },
  {
   "cell_type": "code",
   "execution_count": 28,
   "metadata": {},
   "outputs": [
    {
     "name": "stdout",
     "output_type": "stream",
     "text": [
      "0.9989749347131037 0.8627450980392157 0.5569620253164557\n"
     ]
    }
   ],
   "source": [
    "clf = RandomForestClassifier(max_depth=2)\n",
    "clf.fit(X_train, y_train)\n",
    "y_pred = clf.predict(X_test)\n",
    "print(accuracy_score(y_test, y_pred), precision_score(y_test, y_pred),\n",
    "                           recall_score(y_test, y_pred))"
   ]
  },
  {
   "cell_type": "markdown",
   "metadata": {},
   "source": [
    "### Вывод: Логистическая регрессия дала результаты лучше других алгоритмов по показателю recall, по этому, можем ее немного оптимизировать"
   ]
  },
  {
   "cell_type": "markdown",
   "metadata": {},
   "source": [
    "# Оптимизация Логистической регрессии"
   ]
  },
  {
   "cell_type": "code",
   "execution_count": 30,
   "metadata": {},
   "outputs": [
    {
     "name": "stdout",
     "output_type": "stream",
     "text": [
      "penalty: l2\n",
      "C: 100\n",
      "Accuracy: 0.9991579820857638\n",
      "Precision: 0.856\n",
      "Recall: 0.6772151898734177\n"
     ]
    }
   ],
   "source": [
    "# Выбираем оптимальные параметры для достижения максимального значения recall\n",
    "# Я продемонстрирую выбор оптимальных параметров на параметре C. В модели есть и другие параметры. В реальной \n",
    "# модели нужны было бы оптимизировать все параметры, что заняло бы много времени в условиях тестового задания\n",
    "C_param_range = [0.00001,0.0001,0.001,0.01,0.1,1,10,100]\n",
    "pen_params = ['l2']\n",
    "params_array = []\n",
    "for i in C_param_range:\n",
    "    for k in pen_params:\n",
    "        model = LogisticRegression(penalty=k,C=i)\n",
    "        result = model.fit(X_train, y_train)\n",
    "        y_pred = model.predict(X_test)\n",
    "        params_array.append([k, i, accuracy_score(y_test, y_pred), precision_score(y_test, y_pred),\n",
    "                           recall_score(y_test, y_pred)])\n",
    "max_recall = params_array[0][4]\n",
    "max_ind = 0\n",
    "for i,k in enumerate(params_array):\n",
    "    if params_array[i][4]>max_recall:\n",
    "        max_recall = params_array[i][4]\n",
    "        max_ind = i\n",
    "print (\"penalty:\", params_array[max_ind][0])\n",
    "print (\"C:\", params_array[max_ind][1])\n",
    "print(\"Accuracy:\",params_array[max_ind][2])\n",
    "print(\"Precision:\",params_array[max_ind][3])\n",
    "print(\"Recall:\",params_array[max_ind][4])"
   ]
  },
  {
   "cell_type": "markdown",
   "metadata": {},
   "source": [
    "С помощью выбора параметра C, мы увеличили recall на 4%, что весьма неплохо. При оптимизации других параметров, мы бы получили еще лучшую модель."
   ]
  },
  {
   "cell_type": "markdown",
   "metadata": {},
   "source": [
    "### Выбор оптимального threshold"
   ]
  },
  {
   "cell_type": "markdown",
   "metadata": {},
   "source": [
    "threshold - это параметр на основании которого модель принимает решение к какому классу соотнести объект. По умолчанию, threshold = 0.5. При изменении этого параметра, мы будем получать больше объектов одного класса и меньше другого. Нам это выгодно, так как мы хотим покрыть максимальное количество фрода. Таком образом нам лучше классифицировать не фродовую транзакцию, как фрод и лишний раз ее проверить, чем пропустить фродовою транзакцию.\n",
    "\n",
    "Далее, я буду выбирать оптимальный threshold чтобы максимизировать recall при допустимом для нас значении precision. Выбор threshold я буду проводить на тренировочном dataset"
   ]
  },
  {
   "cell_type": "code",
   "execution_count": 32,
   "metadata": {},
   "outputs": [],
   "source": [
    "def treshold_generate(k = 0.5, step = 0.01, ran = 50):\n",
    "    \"\"\"\n",
    "        k - start point for the treshold\n",
    "        step - step for the treshold\n",
    "        ran - the number of generated treshold based of k and step \n",
    "    \"\"\"\n",
    "    treshould = []\n",
    "    for i in range(0,ran):\n",
    "        k = k-step\n",
    "        treshould.append(k)\n",
    "    return treshould"
   ]
  },
  {
   "cell_type": "code",
   "execution_count": 33,
   "metadata": {},
   "outputs": [],
   "source": [
    "tresh_list = treshold_generate(k = 0.5, step = 0.01, ran = 50)"
   ]
  },
  {
   "cell_type": "code",
   "execution_count": 34,
   "metadata": {},
   "outputs": [
    {
     "name": "stdout",
     "output_type": "stream",
     "text": [
      "tresh =  0.49\n",
      "0.9992521155193874 0.8866396761133604 0.655688622754491 0.7538726333907058\n",
      "---\n",
      "tresh =  0.48\n",
      "0.9992050458667615 0.885593220338983 0.625748502994012 0.7333333333333333\n",
      "---\n",
      "tresh =  0.47\n",
      "0.9992939552106106 0.8871595330739299 0.6826347305389222 0.7715736040609138\n",
      "---\n",
      "tresh =  0.45999999999999996\n",
      "0.9993096450948192 0.8884615384615384 0.6916167664670658 0.7777777777777778\n",
      "---\n",
      "tresh =  0.44999999999999996\n",
      "0.9993410248632365 0.8880597014925373 0.7125748502994012 0.7906976744186046\n",
      "---\n",
      "tresh =  0.43999999999999995\n",
      "0.999273035364999 0.8494623655913979 0.7095808383233533 0.7732463295269167\n",
      "---\n",
      "tresh =  0.42999999999999994\n",
      "0.9992311956737759 0.8327402135231317 0.7005988023952096 0.7609756097560976\n",
      "---\n",
      "tresh =  0.41999999999999993\n",
      "0.9993357949018337 0.8905660377358491 0.7065868263473054 0.7879799666110183\n",
      "---\n",
      "tresh =  0.4099999999999999\n",
      "0.9993148750562221 0.8830188679245283 0.7005988023952096 0.7813021702838063\n",
      "---\n",
      "tresh =  0.3999999999999999\n",
      "0.9993201050176249 0.8669064748201439 0.7215568862275449 0.7875816993464053\n",
      "---\n",
      "tresh =  0.3899999999999999\n",
      "0.9993096450948192 0.8531468531468531 0.7305389221556886 0.7870967741935484\n",
      "---\n",
      "tresh =  0.3799999999999999\n",
      "0.9992887252492076 0.8613138686131386 0.7065868263473054 0.7763157894736842\n",
      "---\n",
      "tresh =  0.3699999999999999\n",
      "0.9993305649404307 0.8626760563380281 0.7335329341317365 0.7928802588996764\n",
      "---\n",
      "tresh =  0.3599999999999999\n",
      "0.9993671746702509 0.8736842105263158 0.7455089820359282 0.8045234248788369\n",
      "---\n",
      "tresh =  0.34999999999999987\n",
      "0.9993567147474451 0.8650519031141869 0.7485029940119761 0.8025682182985555\n",
      "---\n",
      "tresh =  0.33999999999999986\n",
      "0.9993671746702509 0.8817204301075269 0.7365269461077845 0.802610114192496\n",
      "---\n",
      "tresh =  0.32999999999999985\n",
      "0.9993253349790279 0.852233676975945 0.7425149700598802 0.7936\n",
      "---\n",
      "tresh =  0.31999999999999984\n",
      "0.9992782653264018 0.8245033112582781 0.7455089820359282 0.7830188679245282\n",
      "---\n",
      "tresh =  0.30999999999999983\n",
      "0.9993567147474451 0.8625429553264605 0.7514970059880239 0.8032\n",
      "---\n",
      "tresh =  0.2999999999999998\n",
      "0.9993305649404307 0.8456375838926175 0.7544910179640718 0.7974683544303799\n",
      "---\n",
      "tresh =  0.2899999999999998\n",
      "0.9993514847860423 0.85 0.7634730538922155 0.804416403785489\n",
      "---\n",
      "tresh =  0.2799999999999998\n",
      "0.9993044151334163 0.8170347003154574 0.7754491017964071 0.7956989247311829\n",
      "---\n",
      "tresh =  0.2699999999999998\n",
      "0.9993462548246393 0.8317460317460318 0.7844311377245509 0.8073959938366718\n",
      "---\n",
      "tresh =  0.2599999999999998\n",
      "0.9993201050176249 0.8128834355828221 0.7934131736526946 0.803030303030303\n",
      "---\n",
      "tresh =  0.24999999999999978\n",
      "0.9993201050176249 0.8109756097560976 0.7964071856287425 0.8036253776435045\n",
      "---\n",
      "tresh =  0.23999999999999977\n",
      "0.999273035364999 0.8095238095238095 0.7634730538922155 0.785824345146379\n",
      "---\n",
      "tresh =  0.22999999999999976\n",
      "0.9992887252492076 0.803680981595092 0.7844311377245509 0.793939393939394\n",
      "---\n",
      "tresh =  0.21999999999999975\n",
      "0.999273035364999 0.7842565597667639 0.8053892215568862 0.7946824224519939\n",
      "---\n",
      "tresh =  0.20999999999999974\n",
      "0.9992782653264018 0.7899408284023669 0.7994011976047904 0.7946428571428572\n",
      "---\n",
      "tresh =  0.19999999999999973\n",
      "0.9993096450948192 0.8005952380952381 0.8053892215568862 0.8029850746268656\n",
      "---\n",
      "tresh =  0.18999999999999972\n",
      "0.9992155057895673 0.7705882352941177 0.7844311377245509 0.7774480712166172\n",
      "---\n",
      "tresh =  0.17999999999999972\n",
      "0.999273035364999 0.7876106194690266 0.7994011976047904 0.7934621099554234\n",
      "---\n",
      "tresh =  0.1699999999999997\n",
      "0.9992416555965817 0.7647058823529411 0.8173652694610778 0.7901591895803183\n",
      "---\n",
      "tresh =  0.1599999999999997\n",
      "0.9992364256351788 0.7716763005780347 0.7994011976047904 0.7852941176470589\n",
      "---\n",
      "tresh =  0.1499999999999997\n",
      "0.999273035364999 0.7793696275071633 0.8143712574850299 0.7964860907759883\n",
      "---\n",
      "tresh =  0.13999999999999968\n",
      "0.9992364256351788 0.7640449438202247 0.8143712574850299 0.7884057971014493\n",
      "---\n",
      "tresh =  0.12999999999999967\n",
      "0.9992468855579846 0.7624309392265194 0.8263473053892215 0.793103448275862\n",
      "---\n",
      "tresh =  0.11999999999999968\n",
      "0.9992364256351788 0.7582417582417582 0.8263473053892215 0.7908309455587392\n",
      "---\n",
      "tresh =  0.10999999999999968\n",
      "0.9992102758281644 0.7479674796747967 0.8263473053892215 0.7852062588904694\n",
      "---\n",
      "tresh =  0.09999999999999969\n",
      "0.9992207357509701 0.7479892761394102 0.8353293413173652 0.7892503536067893\n",
      "---\n",
      "tresh =  0.08999999999999969\n",
      "0.9992102758281644 0.7453083109919572 0.8323353293413174 0.7864214992927865\n",
      "---\n",
      "tresh =  0.0799999999999997\n",
      "0.999225965712373 0.7513513513513513 0.8323353293413174 0.7897727272727273\n",
      "---\n",
      "tresh =  0.0699999999999997\n",
      "0.9991527462527326 0.7227979274611399 0.8353293413173652 0.775\n",
      "---\n",
      "tresh =  0.0599999999999997\n",
      "0.9990324571404663 0.681265206812652 0.8383233532934131 0.7516778523489931\n",
      "---\n",
      "tresh =  0.0499999999999997\n",
      "0.9990742968316894 0.6957605985037406 0.8353293413173652 0.7591836734693876\n",
      "---\n",
      "tresh =  0.039999999999999696\n",
      "0.9989069380667971 0.6391982182628062 0.8592814371257484 0.7330779054916985\n",
      "---\n",
      "tresh =  0.029999999999999694\n",
      "0.9987238894176961 0.5922131147540983 0.8652694610778443 0.7031630170316302\n",
      "---\n",
      "tresh =  0.01999999999999969\n",
      "0.9986140602282355 0.5680473372781065 0.8622754491017964 0.6848989298454222\n",
      "---\n",
      "tresh =  0.009999999999999691\n",
      "0.9950106168216478 0.24422442244224424 0.8862275449101796 0.38292367399741273\n",
      "---\n",
      "tresh =  -3.0878077872387166e-16\n",
      "0.0017468071085635388 0.0017468071085635388 1.0 0.0034875221885767986\n",
      "---\n"
     ]
    }
   ],
   "source": [
    "for i in tresh_list:\n",
    "    class_distrib = {0:i, 1:1-i}\n",
    "    clf = LogisticRegression(C = 100, penalty = 'l2', class_weight = class_distrib)\n",
    "    clf.fit(X_train, y_train)\n",
    "    y_pred = clf.predict(X_train)\n",
    "    print('tresh = ', i)\n",
    "    print(accuracy_score(y_train, y_pred), precision_score(y_train, y_pred),\n",
    "                           recall_score(y_train, y_pred), f1_score(y_train, y_pred))\n",
    "    print('---')"
   ]
  },
  {
   "cell_type": "markdown",
   "metadata": {},
   "source": [
    "У нас при threshold = 0.04: recall 0.86 и precison 0.64. Это вполне неплохо. \n",
    "Теперь еще раз обучим модель, учитывая threshold и посмотрим на метрики на тестовых данных."
   ]
  },
  {
   "cell_type": "code",
   "execution_count": 35,
   "metadata": {},
   "outputs": [
    {
     "data": {
      "text/plain": [
       "LogisticRegression(C=100, class_weight={0: 0.04, 1: 0.96})"
      ]
     },
     "execution_count": 35,
     "metadata": {},
     "output_type": "execute_result"
    }
   ],
   "source": [
    "threshold = 0.04\n",
    "class_distrib = {0:0.04, 1:1-0.04}\n",
    "clf = LogisticRegression(C = 100, penalty = 'l2', class_weight = class_distrib)\n",
    "clf.fit(X_train, y_train)"
   ]
  },
  {
   "cell_type": "code",
   "execution_count": 36,
   "metadata": {},
   "outputs": [
    {
     "name": "stdout",
     "output_type": "stream",
     "text": [
      "0.9988703283369769 0.6299559471365639 0.8562874251497006\n"
     ]
    }
   ],
   "source": [
    "# Смотрим метрики на тренировочном сете: \n",
    "y_pred = clf.predict(X_train)\n",
    "print(accuracy_score(y_train, y_pred), precision_score(y_train, y_pred),\n",
    "                           recall_score(y_train, y_pred))"
   ]
  },
  {
   "cell_type": "code",
   "execution_count": 37,
   "metadata": {},
   "outputs": [
    {
     "name": "stdout",
     "output_type": "stream",
     "text": [
      "0.998694262075025 0.625615763546798 0.8037974683544303\n"
     ]
    }
   ],
   "source": [
    "# Смотрим метрики на тестовом сете: \n",
    "y_pred = clf.predict(X_test)\n",
    "print(accuracy_score(y_test, y_pred), precision_score(y_test, y_pred),\n",
    "                           recall_score(y_test, y_pred))"
   ]
  },
  {
   "cell_type": "markdown",
   "metadata": {},
   "source": [
    "Как видим, через выбор threshold, мы увеличили recall на 13%, что очень неплохо. У нас уменьшился precision, но это правильное решение, так как наша цель идентифицировать как можно больше фрода. "
   ]
  },
  {
   "cell_type": "markdown",
   "metadata": {},
   "source": [
    "### Интерпретация результатов модели"
   ]
  },
  {
   "cell_type": "markdown",
   "metadata": {},
   "source": [
    "У нас есть 2 важных показателя.\n",
    "\n",
    "recall = 0.8. Он говорит о том, какое количество объктов класса '1' мы обнаруживаем. Т. е. если у нас 100 фродовых транзакций, мы обнаруживаем 80 из них.\n",
    "\n",
    "precison = 0.62. Говорит о том, какой процент их всех объектов, которые мы классифицировали как фрод действительно есть фродом. Т. е. если мы классифифировали как фрод 100 объектоы, то фродом есть 62 из них. "
   ]
  },
  {
   "cell_type": "markdown",
   "metadata": {},
   "source": [
    "Что можно еще сделать в этой модели? \n",
    "    - использовать 'relative_timestamp' как категориальный признак \n",
    "    - нормализировать 'transaction_amount'\n",
    "    - пробовать создавать комбанации признаков \n",
    "    - оптимизировать другие параметры логистической регрессии, кроме 'C'\n",
    "    - Убрать признак 'F2', так как он высоко корелирует с другим признаком и это может влиять на модель\n",
    "    - генерировать threshold с еще меньшим шагом\n",
    "Я не знаю, что обозначют признаки F1 ... F30. Хорошей идеей было бы понять лучше данные и что обозначает каждый признак. Понимание данных помогло бы создать лучшую модель. \n",
    "Так же, все наши трансформации хорошо бы поместить в Pipeline для того, чтобы в будущем быстро приводить данные к нужному нам формату. \n",
    "\n",
    "Малое количество объектов класса '1' и то, что в нас сильно меняются метрики модели в зависимости от деления dataset говорит о том, что данных недостаточно для того, чтобы сказать, что модель будет работать в реальном времени. Модель нестабильная и при другом делении выборки на тестовую и тренировочную может дать показатели, которые весьма отличаются от описаных выше. "
   ]
  },
  {
   "cell_type": "code",
   "execution_count": 40,
   "metadata": {},
   "outputs": [
    {
     "data": {
      "text/plain": [
       "['Models/logistic.joblib']"
      ]
     },
     "execution_count": 40,
     "metadata": {},
     "output_type": "execute_result"
    }
   ],
   "source": [
    "# Сохраняем модель\n",
    "dump(clf, 'Models/logistic.joblib') "
   ]
  },
  {
   "cell_type": "code",
   "execution_count": null,
   "metadata": {},
   "outputs": [],
   "source": []
  }
 ],
 "metadata": {
  "kernelspec": {
   "display_name": "Python 3",
   "language": "python",
   "name": "python3"
  },
  "language_info": {
   "codemirror_mode": {
    "name": "ipython",
    "version": 3
   },
   "file_extension": ".py",
   "mimetype": "text/x-python",
   "name": "python",
   "nbconvert_exporter": "python",
   "pygments_lexer": "ipython3",
   "version": "3.7.6"
  }
 },
 "nbformat": 4,
 "nbformat_minor": 4
}
